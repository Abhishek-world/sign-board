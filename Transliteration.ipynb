{
  "nbformat": 4,
  "nbformat_minor": 0,
  "metadata": {
    "colab": {
      "name": "Transliteration.ipynb",
      "version": "0.3.2",
      "provenance": [],
      "include_colab_link": true
    },
    "kernelspec": {
      "name": "python3",
      "display_name": "Python 3"
    },
    "accelerator": "GPU"
  },
  "cells": [
    {
      "cell_type": "markdown",
      "metadata": {
        "id": "view-in-github",
        "colab_type": "text"
      },
      "source": [
        "<a href=\"https://colab.research.google.com/github/IamShivamJaiswal/sign-board/blob/master/Transliteration.ipynb\" target=\"_parent\"><img src=\"https://colab.research.google.com/assets/colab-badge.svg\" alt=\"Open In Colab\"/></a>"
      ]
    },
    {
      "cell_type": "markdown",
      "metadata": {
        "id": "h5Pad6H6Z9iR",
        "colab_type": "text"
      },
      "source": [
        "# Neural Machine Translation with Attention"
      ]
    },
    {
      "cell_type": "markdown",
      "metadata": {
        "id": "iDvwuLLwZpUP",
        "colab_type": "text"
      },
      "source": [
        "## Clone the repository\n",
        "\n",
        "for data"
      ]
    },
    {
      "cell_type": "code",
      "metadata": {
        "id": "m7jsyxdqFbOT",
        "colab_type": "code",
        "outputId": "63ff7ad5-147f-4faa-f0a2-23dee9ed96c9",
        "colab": {
          "base_uri": "https://localhost:8080/",
          "height": 34
        }
      },
      "source": [
        "!git clone https://github.com/IamShivamJaiswal/sign-board"
      ],
      "execution_count": 1,
      "outputs": [
        {
          "output_type": "stream",
          "text": [
            "fatal: destination path 'sign-board' already exists and is not an empty directory.\n"
          ],
          "name": "stdout"
        }
      ]
    },
    {
      "cell_type": "markdown",
      "metadata": {
        "id": "uvPMGPIIaNxC",
        "colab_type": "text"
      },
      "source": [
        "This notebook trains a sequence to sequence (seq2seq) model for Hindi to English word translation. This is an advanced example that assumes some knowledge of sequence to sequence models.\n",
        "\n",
        "After training the model in this notebook, you will be able to input a english word, such as *\"shivam\"*, and return the Hindi translation: *\"शिवम\"*\n",
        "\n",
        "The translation quality is reasonable for a toy example, but the generated attention plot is perhaps more interesting."
      ]
    },
    {
      "cell_type": "code",
      "metadata": {
        "id": "oGsxAojqYKZp",
        "colab_type": "code",
        "outputId": "8fcddae0-e27c-4519-baf9-e69a719d1e9c",
        "colab": {
          "base_uri": "https://localhost:8080/",
          "height": 51
        }
      },
      "source": [
        "from __future__ import absolute_import, division, print_function\n",
        "\n",
        "try:\n",
        "  # %tensorflow_version only exists in Colab.\n",
        "  %tensorflow_version 2.x\n",
        "except Exception:\n",
        "  pass\n",
        "\n",
        "import tensorflow as tf\n",
        "print(tf.__version__)\n",
        "import matplotlib.pyplot as plt\n",
        "import matplotlib.ticker as ticker\n",
        "\n",
        "import os\n",
        "import io\n",
        "import time\n",
        "import pandas as pd\n",
        "from sklearn.model_selection import train_test_split\n",
        "import numpy as np\n",
        "import unicodedata\n",
        "import re\n",
        "import time"
      ],
      "execution_count": 2,
      "outputs": [
        {
          "output_type": "stream",
          "text": [
            "TensorFlow 2.x selected.\n",
            "2.0.0-rc0\n"
          ],
          "name": "stdout"
        }
      ]
    },
    {
      "cell_type": "markdown",
      "metadata": {
        "id": "Ntorsd8_cdF4",
        "colab_type": "text"
      },
      "source": [
        "## Preprocessing\n",
        "\n",
        "1. Add a *start* as `0` and *end* as `1` token to each sentence.\n",
        "2. Clean the sentences by removing special characters.\n",
        "3. Create a word index and reverse word index (dictionaries mapping from word → id and id → word).\n",
        "4. Pad each sentence to a maximum length."
      ]
    },
    {
      "cell_type": "code",
      "metadata": {
        "id": "Hf8NNrQPYaxE",
        "colab_type": "code",
        "colab": {}
      },
      "source": [
        "def unicode_to_ascii(s):\n",
        "    return ''.join(c for c in unicodedata.normalize('NFD', s)\n",
        "        if unicodedata.category(c) != 'Mn')\n",
        "\n",
        "\n",
        "def preprocess_sentence(w):\n",
        "    w = unicode_to_ascii(w.lower().strip())\n",
        "    w = w.replace('-', ' ').replace(',', ' ')\n",
        "    \n",
        "    # creating a space between a word and the punctuation following it\n",
        "    # eg: \"he is a boy.\" => \"he is a boy .\" \n",
        "    # Reference:- https://stackoverflow.com/questions/3645931/python-padding-punctuation-with-white-spaces-keeping-punctuation\n",
        "    w = re.sub(r\"([?.!,¿])\", r\" \\1 \", w)\n",
        "    w = re.sub(r'[\" \"]+', \" \", w)\n",
        "    \n",
        "    # replacing everything with space except (a-z, A-Z, \".\", \"?\", \"!\", \",\")\n",
        "    w = re.sub(r\"[^a-zA-Z?.!,¿]+\", \" \", w)\n",
        "    \n",
        "    w = w.rstrip().strip()\n",
        "    \n",
        "    # adding a start and an end token to the sentence\n",
        "    # so that the model know when to start and stop predicting.\n",
        "    w = '0' + w + '1'\n",
        "    return w.split()\n",
        "  \n",
        "def preprocess_sentence_hindi(w):\n",
        "    w = unicode_to_ascii(w.lower().strip())\n",
        "    w = w.replace('-', ' ').replace(',', ' ')\n",
        "    \n",
        "    # creating a space between a word and the punctuation following it\n",
        "    # eg: \"he is a boy.\" => \"he is a boy .\" \n",
        "    # Reference:- https://stackoverflow.com/questions/3645931/python-padding-punctuation-with-white-spaces-keeping-punctuation\n",
        "    w = re.sub(r\"([?.!,¿])\", r\" \\1 \", w)\n",
        "    w = re.sub(r'[\" \"]+', \" \", w)\n",
        "        \n",
        "    w = w.rstrip().strip()\n",
        "    \n",
        "    # adding a start and an end token to the sentence\n",
        "    # so that the model know when to start and stop predicting.\n",
        "    w = '0' + w + '1'\n",
        "    return w.split()"
      ],
      "execution_count": 0,
      "outputs": []
    },
    {
      "cell_type": "code",
      "metadata": {
        "id": "2xHiJYkXd0Kj",
        "colab_type": "code",
        "colab": {
          "base_uri": "https://localhost:8080/",
          "height": 51
        },
        "outputId": "697cb2eb-2e1a-4a4c-e596-6dfa7c930d27"
      },
      "source": [
        "word = \"shivam\"\n",
        "hindi = \"शिवम\"\n",
        "print(preprocess_sentence(word))\n",
        "print(preprocess_sentence_hindi(hindi))"
      ],
      "execution_count": 20,
      "outputs": [
        {
          "output_type": "stream",
          "text": [
            "['0shivam1']\n",
            "['0शिवम1']\n"
          ],
          "name": "stdout"
        }
      ]
    },
    {
      "cell_type": "code",
      "metadata": {
        "id": "NwZLKunqYh4J",
        "colab_type": "code",
        "colab": {}
      },
      "source": [
        "import xml.etree.ElementTree as ET\n",
        "def create_dataset(filename):\n",
        "\n",
        "    transliterationCorpus = ET.parse(filename).getroot()\n",
        "    lang1_words = []\n",
        "    lang2_words = []\n",
        "\n",
        "    for line in transliterationCorpus:\n",
        "                wordlist1 = preprocess_sentence(line[0].text) # clean English words.\n",
        "                wordlist2 = preprocess_sentence_hindi(line[1].text)# clean hindi words.\n",
        "                \n",
        "                #to check consistency in the input vs output mapping\n",
        "                if len(wordlist1) != len(wordlist2):\n",
        "                    print('Skipping: ', line[0].text, ' - ', line[1].text)\n",
        "                    continue\n",
        "\n",
        "                for word in wordlist1:\n",
        "                    lang1_words.append(word)\n",
        "                for word in wordlist2:\n",
        "                    lang2_words.append(word)\n",
        "    return [lang1_words,lang2_words]"
      ],
      "execution_count": 0,
      "outputs": []
    },
    {
      "cell_type": "code",
      "metadata": {
        "id": "C2IJ1mL7Y3QK",
        "colab_type": "code",
        "colab": {
          "base_uri": "https://localhost:8080/",
          "height": 1000
        },
        "outputId": "e4589086-dcd3-47a4-90cc-deff39ffbe0b"
      },
      "source": [
        "PATH = \"/content/sign-board/transliteration/data/\"\n",
        "\n",
        "train_data = create_dataset(PATH+'NEWS2012TrainingEnHi.xml')\n",
        "test_data = create_dataset(PATH+'NEWS2012TestingEnHi1000.xml')"
      ],
      "execution_count": 22,
      "outputs": [
        {
          "output_type": "stream",
          "text": [
            "Skipping:  BUSHNELL'S MUSEUM  -  बुशनेल्स म्युज़ियम\n",
            "Skipping:  I^DUKAANT  -  इंदुकांत\n",
            "Skipping:  THE AUSTRALIAN/VOGEL LITERARY AWARD  -  द ऑस्ट्रेलियन/वोगेल लिट्रेरी अवार्ड\n",
            "Skipping:  PLAZA 66  -  प्लाज़ा 66\n",
            "Skipping:  Bhaalachan_dr  -  भालचन्द्र\n",
            "Skipping:  MAN OF THE YEAR/PERSON OF THE YEAR  -  मैन ऑफ द ईयर/पर्सन ऑफ द ईयर\n",
            "Skipping:  BARHARWA JUNCTION  -  बरहरवा\n",
            "Skipping:  QUEEN ANNE'S WAR  -  क्वीन एनीज वार\n",
            "Skipping:  STATE BNK TR  -  स्टेट बैंक ऑफ त्रावणकोर\n",
            "Skipping:  IN_DRAJEET  -  इन्द्रजीत\n",
            "Skipping:  SAINT FRANCIS D'ASSISI HIGH SCHOOL  -  सेंट फ्रांसिस ड‍िअस‍ीसी हाई स्कूल\n",
            "Skipping:  SHU'A  -  शुआ\n",
            "Skipping:  SOUTH ARLINGTON CHURCH OF CHRIST  -  साउथ अर्लिंग्टन\n",
            "Skipping:  I^diyaa  -  इंडिया\n",
            "Skipping:  DAI'EI  -  दैई\n",
            "Skipping:  ISMA'IL  -  इस्मा'ईल\n",
            "Skipping:  WOMEN'S LITERATURE PRIZE  -  वुमेन्स लिट्रेचर प्राइज़\n",
            "Skipping:  KING EDWARD VII  -  किंग एडवर्ड\n",
            "Skipping:  BRAJEN_DR  -  ब्रजेन्द्र\n",
            "Skipping:  DIBANG VALLEY  -  दिबंगवैली\n",
            "Skipping:  LU'LU  -  लु'लु\n",
            "Skipping:  CHITTAR RESERVOIR-2  -  चित्तर रिज़रवायर-2\n",
            "Skipping:  SAINT MICHAEL'S ACADEMY, CHENNAI  -  सेंट माइकल्स एकेडमी, चेन्नई\n",
            "Skipping:  Cadbury's  -  कैडबरीज़\n",
            "Skipping:  SAINT STANISLAUS HIGH SCHOOL. MUMBAI  -  सेंट स्टेनिस्लॉस हाई स्कूल, मुम्बई\n",
            "Skipping:  SAINT GEORGE'S CHANNEL  -  सेंट जॉर्ज्स चैनल\n",
            "Skipping:  I^JEENIYAR  -  इंजीनियर\n",
            "Skipping:  JITEN_DR  -  जितेन्द्र\n",
            "Skipping:  ORDER OF VASA  -  ऑडर ऑफ़ द वासा\n",
            "Skipping:  P'yongyang  -  पियोंगयांग\n",
            "Skipping:  SA'IRAH  -  साइराह\n",
            "Skipping:  DOROTHY CANFIELD FISHER CHILDREN'S BOOK AWARD  -  डोरोथी कैनफील्ड फिशर चिल्ड्रन बुक अवार्ड\n",
            "Skipping:  AZAMNAGAR ROAD  -  आज़मनगर\n",
            "Skipping:  KING GEORGE'S WAR  -  किंग जॉर्ज्स वार\n",
            "Skipping:  AKTIESELSKABET DAMPSKIBSSELSKABET TORM 4  -  एक्टीसल्:कॅबेट डॅम्प्सकीबेसेल्सकॅबेट टॉर्म 4\n",
            "Skipping:  ALMA ASSEMBLY OF GOD'S  -  अल्मा असेंब्ली ऑफ गॉड्स\n",
            "Skipping:  CAPE TOWN  -  केपटाउन\n",
            "Skipping:  PETRONAS TOWER 2  -  प्रेट्रोनॉस टॉवर 2\n",
            "Skipping:  NEW ZEALAND  -  न्यूज़ीलैंड\n",
            "Skipping:  SEA OF THE HEBRIDES  -  सी ऑफ हरब्रिड्‍स\n",
            "Skipping:  RAMCOIND  -  राम्को इंड\n",
            "Skipping:  MANEE^DR  -  मणींद्र\n",
            "Skipping:  VISHVEN_DR  -  विश्वेन्द्र\n",
            "Skipping:  KELVINGROVE ART GALLERY AND MUSEUM  -  केल्व‍िनग्रोव आर्ट एण्ड म्युज़ियम\n",
            "Skipping:  AUSTRALIAN NATIONAL UNIVERSITY  -  ऑस्ट्रेलियननेशनल यूनिवर्सिटी\n",
            "Skipping:  JAHAN AARA  -  जहाँआरा\n",
            "Skipping:  NAVABHARAT FERRO ALLOYS  -  नव भारत फ़ैरो अलॉय\n",
            "Skipping:  FA'ATETE  -  फाटेट\n",
            "Skipping:  LAHI'AH  -  लहियाह\n",
            "Skipping:  WORLD ASSOCIATION OF NEWSPAPERS'S GOLDEN PEN OF FREEDOM AWARD  -  वर्ल्ड एसोसिएशन ऑफ न्युज़पेपर्स गोल्डन पेन ऑफ फ्रीडम अवार्ड\n",
            "Skipping:  RAMA LINGESHWARA  -  रामालिंगेश्वर\n",
            "Skipping:  JACOB'S WELL  -  जैकॉब्स वेल\n",
            "Skipping:  FAKHRUN NISA  -  फखरुन्निसा\n",
            "Skipping:  SA'OOD  -  सऊद\n",
            "Skipping:  DEVEN_DR  -  देवेन्द्र\n",
            "Skipping:  IN'AM  -  इनआम\n",
            "Skipping:  SHU'AA  -  शुआ\n",
            "Skipping:  OMKARNATH THAKUR  -  ओंकार नाथ ठाकुर\n",
            "Skipping:  OPENTV  -  ओपन टीवी\n",
            "Skipping:  SHAILEN_DR  -  शैलेन्द्र\n",
            "Skipping:  SAINT XAVIERS'S SCHOOL, CHANDIGARH  -  सेंट ज़ेवियर्स स्कूल, चंडीगढ़\n",
            "Skipping:  Un_manaa  -  उन्मना\n",
            "Skipping:  ENVOY COMMUNICATIONS GROUP  -  एन्वॉय कम्युनिकेशंस\n",
            "Skipping:  CHINA'S GREAT WALL MUSEUM  -  चाइनाज ग्रेट वाल म्युज़ियम\n",
            "Skipping:  SA'IM  -  सईम\n",
            "Skipping:  WAR OF THE HOLY LEAGUE  -  वार ऑफ होली लीग\n",
            "Skipping:  ABDUL MUTA'ALEE  -  अब्दुल मुताअली\n",
            "Skipping:  CHAMPION'S CUP  -  चैंपियन्स कप\n",
            "Skipping:  PRICKETT'S FORT  -  प्रिकेट्‍स फोर्ट\n",
            "Skipping:  UNICREDITO ITALIANO.  -  यूनीक्रेडिटो इटालियानो\n",
            "Skipping:  MU'ALLA  -  मुअल्ला\n",
            "Skipping:  GOVERNOR GENERAL'S AWARD  -  गवर्नर जनरल्स अवार्ड\n",
            "Skipping:  TO'ERE  -  टोएरे\n",
            "Skipping:  SUREN_DAR  -  सुरेन्दर\n",
            "Skipping:  SAINT MARY'S CONVENT INTER COLLEGE, ALLAHABAD  -  सेंट मेरीज़ कॉंन्वेंट इंटर कॉलेज, अलाहाबाद\n",
            "Skipping:  SAINT JOHN'S HIGH SCHOOL, CHANDIGARH  -  सेंट जॉन्‍स हाई स्कूल, चंडीगढ़\n",
            "Skipping:  SIR JOHN SOANE'S MUSEUM  -  सर जॉन सॉन्स म्युज़ियम\n",
            "Skipping:  Lokamaan_y  -  लोकमान्य\n",
            "Skipping:  VAPARAISO CHURCH OF CHRIST  -  व्हापरासिओ\n",
            "Skipping:  SAUJAN_Y  -  सौजन्य\n",
            "Skipping:  PARIS CHARLES DE GAULLE  -  पेरिस रॉसे चार्ल्स डे ग्यूले\n",
            "Skipping:  PARKWAY APOSTOLIC  -  पार्क वे अपोस्टोलिक\n",
            "Skipping:  Kapee^dr  -  कपींद्र\n",
            "Skipping:  E'TEMAD  -  इत्तेमाद\n",
            "Skipping:  SORRENTO 1  -  सॉरेन्टो 1\n",
            "Skipping:  MU'AWWIZ  -  मुआव्विज़\n",
            "Skipping:  MAUNA LOA  -  मौनालोआ\n",
            "Skipping:  SAINT GEORGE'S  -  सेंट जॉर्ज\n",
            "Skipping:  MCDONALD'S  -  मैकडॉनल्ड्स\n",
            "Skipping:  MU'AZZAM  -  मुअज़्ज़म\n",
            "Skipping:  MASS MUTUAL LIFE  -  मास म्युच्युअल लाइफ़ इंश्योरेंस\n",
            "Skipping:  STATS CHIPPAC  -  स्टेट्सचिपपैक\n",
            "Skipping:  NA'IL  -  नाइल\n",
            "Skipping:  NEWFOUNDLAND  -  न्यू फाउंडलैंड\n",
            "Skipping:  LONDONHEATHROW  -  लंदन हीथ्रो\n",
            "Skipping:  KING PHILIP'S WAR  -  किंग फिलिप्स वार\n",
            "Skipping:  GAJEN_DR  -  गजेन्द्र\n",
            "Skipping:  Naren_dar  -  नरेन्दर\n",
            "Skipping:  MA'MUN  -  मैमून\n",
            "Skipping:  MU'AWIYAH  -  मुआवियाह\n",
            "Skipping:  HUKUMACHAN_D  -  हुकुमचन्द\n",
            "Skipping:  VANAKAN_YAA  -  वनकन्या\n",
            "Skipping:  RETALIX  -  रेटालिक्स लि.\n",
            "Skipping:  ATINDARJEET.  -  अतिंदरजीत\n",
            "Skipping:  SRISAILAM  -  श्री शैलम\n",
            "Skipping:  COLVIN TALUQADAR'S COLLEGE, LUCKNOW  -  कॉल्व‍िन तालुकदार्स कॉलेज, लखनऊ\n",
            "Skipping:  ZE'EV PRIZE  -  ज़ेव प्राइज़\n",
            "Skipping:  KAN_HAIYAALAAL  -  कन्हैयालाल\n",
            "Skipping:  KARA-KUM  -  काराकुम\n",
            "Skipping:  WIND RIVER  -  विंडरिवर\n",
            "Skipping:  SA'ID  -  सईद\n",
            "Skipping:  HARTFORD/BRADLEY  -  हॉर्टफोर्ड/ब्रॉड्ले\n",
            "Skipping:  NETAJI SUBHASH CHANDRA BOSE  -  नेताजी सुभाषचंद्र बोस\n",
            "Skipping:  ROCKBROOK UNITED  -  रॉकब्रुक यूनाइटेड मेथोडिस्ट\n",
            "Skipping:  WALTER SCOTT  -  वॉल्टरस्कॉट\n",
            "Skipping:  COLOURPLUS FASHIONS  -  कलर प्लस फ़ैशन्स\n",
            "Skipping:  Islip/macarthur  -  इसलिप/माकॉरथूर\n",
            "Skipping:  DUMMER'S WAR  -  ड्रमर्स वार\n",
            "Skipping:  SAINT PIERRE'S EPISCOPAL  -  सेंट पिरेस एपिस्कोपाल\n",
            "Skipping:  BAL KRISHNA  -  बालकृष्णा\n",
            "Skipping:  MU'ALLIM  -  मुअल्लिम\n",
            "Skipping:  SU'AD  -  सुआह\n",
            "Skipping:  PUGACHEV'S REBELLION  -  प्यूगाचेव्स रिबेलियन\n",
            "Skipping:  Shaile^dr  -  शैलेंद्र\n",
            "Skipping:  RAAJEN_DR  -  राजेन्द्र\n"
          ],
          "name": "stdout"
        }
      ]
    },
    {
      "cell_type": "code",
      "metadata": {
        "id": "P-QVvtprHWam",
        "colab_type": "code",
        "colab": {
          "base_uri": "https://localhost:8080/",
          "height": 357
        },
        "outputId": "013478d7-0b92-4b8f-e7b0-f70d9be1c08f"
      },
      "source": [
        "train_data[0][:10],train_data[1][:10]"
      ],
      "execution_count": 23,
      "outputs": [
        {
          "output_type": "execute_result",
          "data": {
            "text/plain": [
              "(['0raasavihaaree1',\n",
              "  '0deogan',\n",
              "  'road1',\n",
              "  '0shatrumardan1',\n",
              "  '0mahijuba1',\n",
              "  '0sabine1',\n",
              "  '0bill',\n",
              "  'cosby1',\n",
              "  '0rishta',\n",
              "  'kagaz'],\n",
              " ['0रासविहारी1',\n",
              "  '0दवगन',\n",
              "  'रोड1',\n",
              "  '0शतरमरदन1',\n",
              "  '0महिजबा1',\n",
              "  '0सबिन1',\n",
              "  '0बिल',\n",
              "  'कॉसबी1',\n",
              "  '0रिशता',\n",
              "  'कागज'])"
            ]
          },
          "metadata": {
            "tags": []
          },
          "execution_count": 23
        }
      ]
    },
    {
      "cell_type": "code",
      "metadata": {
        "id": "mqob6gpsLSdp",
        "colab_type": "code",
        "colab": {}
      },
      "source": [
        "#len(test_data[0]),len(test_data[1]),len(train_data[0])"
      ],
      "execution_count": 0,
      "outputs": []
    },
    {
      "cell_type": "code",
      "metadata": {
        "id": "azt3s9M7ZqzU",
        "colab_type": "code",
        "colab": {}
      },
      "source": [
        "#train_data[0][-1],train_data[1][-1]"
      ],
      "execution_count": 0,
      "outputs": []
    },
    {
      "cell_type": "code",
      "metadata": {
        "id": "n_Sen3TCLhYr",
        "colab_type": "code",
        "outputId": "97d9791e-84a0-4007-bbab-9a050e60e944",
        "colab": {
          "base_uri": "https://localhost:8080/",
          "height": 34
        }
      },
      "source": [
        "train_data[0].extend(test_data[0])\n",
        "train_data[1].extend(test_data[1])\n",
        "\n",
        "print(len(train_data[0]),len(train_data[1]))"
      ],
      "execution_count": 24,
      "outputs": [
        {
          "output_type": "stream",
          "text": [
            "21382 21382\n"
          ],
          "name": "stdout"
        }
      ]
    },
    {
      "cell_type": "code",
      "metadata": {
        "id": "O614cMLsan8o",
        "colab_type": "code",
        "colab": {}
      },
      "source": [
        "class WordIndex():\n",
        "  def __init__(self, lang):\n",
        "    self.lang = lang\n",
        "    self.word2idx = {}\n",
        "    self.idx2word = {}\n",
        "    self.vocab = set()\n",
        "    \n",
        "    self.create_index()\n",
        "    \n",
        "  def create_index(self):\n",
        "    for phrase in self.lang:\n",
        "      for l in phrase:\n",
        "        self.vocab.update(l)\n",
        "    \n",
        "    self.vocab = sorted(self.vocab)\n",
        "    \n",
        "    self.word2idx['<pad>'] = 0\n",
        "    for index, word in enumerate(self.vocab):\n",
        "      self.word2idx[word] = index + 1\n",
        "    \n",
        "    for word, index in self.word2idx.items():\n",
        "      self.idx2word[index] = word\n",
        "      "
      ],
      "execution_count": 0,
      "outputs": []
    },
    {
      "cell_type": "code",
      "metadata": {
        "id": "-N6dFOUsTNlB",
        "colab_type": "code",
        "colab": {}
      },
      "source": [
        "def tokenize(lang):\n",
        "  index_lang  = WordIndex(lang)\n",
        "  input_tensor = [[index_lang.word2idx[s] for s in en] for en in lang]\n",
        "  max_length = max(len(t) for t in input_tensor)\n",
        "  input_tensor = tf.keras.preprocessing.sequence.pad_sequences(input_tensor, \n",
        "                                                                 maxlen=max_length,\n",
        "                                                                 padding='post')\n",
        "  return input_tensor, index_lang , max_length"
      ],
      "execution_count": 0,
      "outputs": []
    },
    {
      "cell_type": "code",
      "metadata": {
        "id": "nsPwHwUAb3zE",
        "colab_type": "code",
        "colab": {}
      },
      "source": [
        "def max_length(tensor):\n",
        "    return max(len(t) for t in tensor)\n",
        "\n",
        "\n",
        "def load_dataset(pairs):\n",
        "\n",
        "\n",
        "    # index language using the class defined above    \n",
        "    targ_lang, inp_lang = pairs[1],pairs[0]\n",
        "    \n",
        "    input_tensor, inp_lang_tokenizer ,max_length_inp = tokenize(inp_lang)\n",
        "    \n",
        "    target_tensor, targ_lang_tokenizer,max_length_tar = tokenize(targ_lang)\n",
        "    \n",
        "    return input_tensor, target_tensor, inp_lang_tokenizer, targ_lang_tokenizer,max_length_inp,max_length_tar"
      ],
      "execution_count": 0,
      "outputs": []
    },
    {
      "cell_type": "code",
      "metadata": {
        "id": "fQXkJaCFb7A2",
        "colab_type": "code",
        "colab": {}
      },
      "source": [
        "input_tensor, target_tensor, inp_lang, targ_lang,max_length_inp, max_length_targ = load_dataset(train_data)"
      ],
      "execution_count": 0,
      "outputs": []
    },
    {
      "cell_type": "code",
      "metadata": {
        "id": "m2zhFaYKb9dA",
        "colab_type": "code",
        "colab": {}
      },
      "source": [
        "def convert(lang, tensor):\n",
        "  for t in tensor:\n",
        "    if t!=0:\n",
        "      print (\"%d ----> %s\" % (t, lang.idx2word[t]))"
      ],
      "execution_count": 0,
      "outputs": []
    },
    {
      "cell_type": "code",
      "metadata": {
        "id": "tkvr1j9vb_03",
        "colab_type": "code",
        "outputId": "3fe34bca-0219-41b4-f9a8-f140fc0e81a8",
        "colab": {
          "base_uri": "https://localhost:8080/",
          "height": 221
        }
      },
      "source": [
        "convert(inp_lang,input_tensor[-1])\n",
        "convert(targ_lang,target_tensor[-1])"
      ],
      "execution_count": 30,
      "outputs": [
        {
          "output_type": "stream",
          "text": [
            "2 ----> 0\n",
            "30 ----> z\n",
            "13 ----> i\n",
            "19 ----> o\n",
            "18 ----> n\n",
            "3 ----> 1\n",
            "4 ----> 0\n",
            "25 ----> ज\n",
            "52 ----> ि\n",
            "16 ----> ऑ\n",
            "37 ----> न\n",
            "5 ----> 1\n"
          ],
          "name": "stdout"
        }
      ]
    },
    {
      "cell_type": "code",
      "metadata": {
        "id": "qplqFq9ncCFJ",
        "colab_type": "code",
        "outputId": "0894d77e-96d8-4020-daba-f9df13e452a6",
        "colab": {
          "base_uri": "https://localhost:8080/",
          "height": 34
        }
      },
      "source": [
        "input_tensor_train, input_tensor_val, target_tensor_train, target_tensor_val = train_test_split(input_tensor, target_tensor, test_size=0.05)\n",
        "\n",
        "# Show length\n",
        "len(input_tensor_train), len(target_tensor_train), len(input_tensor_val), len(target_tensor_val)"
      ],
      "execution_count": 31,
      "outputs": [
        {
          "output_type": "execute_result",
          "data": {
            "text/plain": [
              "(20312, 20312, 1070, 1070)"
            ]
          },
          "metadata": {
            "tags": []
          },
          "execution_count": 31
        }
      ]
    },
    {
      "cell_type": "code",
      "metadata": {
        "id": "6IYlg65kcIJ8",
        "colab_type": "code",
        "colab": {}
      },
      "source": [
        "BUFFER_SIZE = len(input_tensor_train)\n",
        "BATCH_SIZE = 128\n",
        "steps_per_epoch = len(input_tensor_train)//BATCH_SIZE\n",
        "embedding_dim = 256\n",
        "units = 1024\n",
        "vocab_inp_size = len(inp_lang.word2idx)+1\n",
        "vocab_tar_size = len(targ_lang.word2idx)+1"
      ],
      "execution_count": 0,
      "outputs": []
    },
    {
      "cell_type": "code",
      "metadata": {
        "id": "QcZu22aOcLYF",
        "colab_type": "code",
        "colab": {}
      },
      "source": [
        "dataset = tf.data.Dataset.from_tensor_slices((input_tensor_train, target_tensor_train)).shuffle(BUFFER_SIZE)\n",
        "dataset = dataset.batch(BATCH_SIZE, drop_remainder=True)"
      ],
      "execution_count": 0,
      "outputs": []
    },
    {
      "cell_type": "code",
      "metadata": {
        "id": "ow_IthSXcNzp",
        "colab_type": "code",
        "outputId": "fa7001a5-45ac-401d-9adb-6c3a2f51b6ca",
        "colab": {
          "base_uri": "https://localhost:8080/",
          "height": 34
        }
      },
      "source": [
        "example_input_batch, example_target_batch = next(iter(dataset))\n",
        "example_input_batch.shape, example_target_batch.shape"
      ],
      "execution_count": 34,
      "outputs": [
        {
          "output_type": "execute_result",
          "data": {
            "text/plain": [
              "(TensorShape([128, 22]), TensorShape([128, 16]))"
            ]
          },
          "metadata": {
            "tags": []
          },
          "execution_count": 34
        }
      ]
    },
    {
      "cell_type": "markdown",
      "metadata": {
        "id": "9hekTaSvenqG",
        "colab_type": "text"
      },
      "source": [
        "## Write the encoder and decoder model\n",
        "\n",
        "Implement an encoder-decoder model with attention which you can read about in the TensorFlow [Neural Machine Translation (seq2seq) tutorial](https://github.com/tensorflow/nmt). This example uses a more recent set of APIs. This notebook implements the [attention equations](https://github.com/tensorflow/nmt#background-on-the-attention-mechanism) from the seq2seq tutorial. The following diagram shows that each input words is assigned a weight by the attention mechanism which is then used by the decoder to predict the next word in the sentence. The below picture and formulas are an example of attention mechanism from [Luong's paper](https://arxiv.org/abs/1508.04025v5). \n",
        "\n",
        "<img src=\"https://www.tensorflow.org/images/seq2seq/attention_mechanism.jpg\" width=\"500\" alt=\"attention mechanism\">\n",
        "\n",
        "The input is put through an encoder model which gives us the encoder output of shape *(batch_size, max_length, hidden_size)* and the encoder hidden state of shape *(batch_size, hidden_size)*.\n",
        "\n",
        "Here are the equations that are implemented:\n",
        "\n",
        "<img src=\"https://www.tensorflow.org/images/seq2seq/attention_equation_0.jpg\" alt=\"attention equation 0\" width=\"800\">\n",
        "<img src=\"https://www.tensorflow.org/images/seq2seq/attention_equation_1.jpg\" alt=\"attention equation 1\" width=\"800\">\n",
        "\n",
        "This tutorial uses [Bahdanau attention](https://arxiv.org/pdf/1409.0473.pdf) for the encoder. Let's decide on notation before writing the simplified form:\n",
        "\n",
        "* FC = Fully connected (dense) layer\n",
        "* EO = Encoder output\n",
        "* H = hidden state\n",
        "* X = input to the decoder\n",
        "\n",
        "And the pseudo-code:\n",
        "\n",
        "* `score = FC(tanh(FC(EO) + FC(H)))`\n",
        "* `attention weights = softmax(score, axis = 1)`. Softmax by default is applied on the last axis but here we want to apply it on the *1st axis*, since the shape of score is *(batch_size, max_length, hidden_size)*. `Max_length` is the length of our input. Since we are trying to assign a weight to each input, softmax should be applied on that axis.\n",
        "* `context vector = sum(attention weights * EO, axis = 1)`. Same reason as above for choosing axis as 1.\n",
        "* `embedding output` = The input to the decoder X is passed through an embedding layer.\n",
        "* `merged vector = concat(embedding output, context vector)`\n",
        "* This merged vector is then given to the GRU\n",
        "\n",
        "The shapes of all the vectors at each step have been specified in the comments in the code:"
      ]
    },
    {
      "cell_type": "code",
      "metadata": {
        "id": "P839_x33cPkQ",
        "colab_type": "code",
        "colab": {}
      },
      "source": [
        "class Encoder(tf.keras.Model):\n",
        "  def __init__(self, vocab_size, embedding_dim, enc_units, batch_sz):\n",
        "    super(Encoder, self).__init__()\n",
        "    self.batch_sz = batch_sz\n",
        "    self.enc_units = enc_units\n",
        "    self.embedding = tf.keras.layers.Embedding(vocab_size, embedding_dim)\n",
        "    self.gru = tf.keras.layers.GRU(self.enc_units,\n",
        "                                   return_sequences=True,\n",
        "                                   return_state=True,\n",
        "                                   recurrent_initializer='glorot_uniform')\n",
        "\n",
        "  def call(self, x, hidden):\n",
        "    x = self.embedding(x)\n",
        "    output, state = self.gru(x, initial_state = hidden)\n",
        "    return output, state\n",
        "\n",
        "  def initialize_hidden_state(self):\n",
        "    return tf.zeros((self.batch_sz, self.enc_units))"
      ],
      "execution_count": 0,
      "outputs": []
    },
    {
      "cell_type": "code",
      "metadata": {
        "id": "aqNki3ficUir",
        "colab_type": "code",
        "outputId": "7420c0b5-8b5d-460f-e95b-d0e2f2c3b7ed",
        "colab": {
          "base_uri": "https://localhost:8080/",
          "height": 51
        }
      },
      "source": [
        "encoder = Encoder(vocab_inp_size, embedding_dim, units, BATCH_SIZE)\n",
        "\n",
        "# sample input\n",
        "sample_hidden = encoder.initialize_hidden_state()\n",
        "sample_output, sample_hidden = encoder(example_input_batch, sample_hidden)\n",
        "print ('Encoder output shape: (batch size, sequence length, units) {}'.format(sample_output.shape))\n",
        "print ('Encoder Hidden state shape: (batch size, units) {}'.format(sample_hidden.shape))"
      ],
      "execution_count": 36,
      "outputs": [
        {
          "output_type": "stream",
          "text": [
            "Encoder output shape: (batch size, sequence length, units) (128, 22, 1024)\n",
            "Encoder Hidden state shape: (batch size, units) (128, 1024)\n"
          ],
          "name": "stdout"
        }
      ]
    },
    {
      "cell_type": "code",
      "metadata": {
        "id": "KsVwnCEccWhh",
        "colab_type": "code",
        "colab": {}
      },
      "source": [
        "class BahdanauAttention(tf.keras.Model):\n",
        "  def __init__(self, units):\n",
        "    super(BahdanauAttention, self).__init__()\n",
        "    self.W1 = tf.keras.layers.Dense(units)\n",
        "    self.W2 = tf.keras.layers.Dense(units)\n",
        "    self.V = tf.keras.layers.Dense(1)\n",
        "\n",
        "  def call(self, query, values):\n",
        "    # hidden shape == (batch_size, hidden size)\n",
        "    # hidden_with_time_axis shape == (batch_size, 1, hidden size)\n",
        "    # we are doing this to perform addition to calculate the score\n",
        "    hidden_with_time_axis = tf.expand_dims(query, 1)\n",
        "\n",
        "    # score shape == (batch_size, max_length, 1)\n",
        "    # we get 1 at the last axis because we are applying score to self.V\n",
        "    # the shape of the tensor before applying self.V is (batch_size, max_length, units)\n",
        "    score = self.V(tf.nn.tanh(\n",
        "        self.W1(values) + self.W2(hidden_with_time_axis)))\n",
        "\n",
        "    # attention_weights shape == (batch_size, max_length, 1)\n",
        "    attention_weights = tf.nn.softmax(score, axis=1)\n",
        "\n",
        "    # context_vector shape after sum == (batch_size, hidden_size)\n",
        "    context_vector = attention_weights * values\n",
        "    context_vector = tf.reduce_sum(context_vector, axis=1)\n",
        "\n",
        "    return context_vector, attention_weights"
      ],
      "execution_count": 0,
      "outputs": []
    },
    {
      "cell_type": "code",
      "metadata": {
        "id": "5-oSASe8cY78",
        "colab_type": "code",
        "outputId": "015a8228-677b-4091-ca88-27c43c9e6b67",
        "colab": {
          "base_uri": "https://localhost:8080/",
          "height": 51
        }
      },
      "source": [
        "attention_layer = BahdanauAttention(10)\n",
        "attention_result, attention_weights = attention_layer(sample_hidden, sample_output)\n",
        "\n",
        "print(\"Attention result shape: (batch size, units) {}\".format(attention_result.shape))\n",
        "print(\"Attention weights shape: (batch_size, sequence_length, 1) {}\".format(attention_weights.shape))"
      ],
      "execution_count": 38,
      "outputs": [
        {
          "output_type": "stream",
          "text": [
            "Attention result shape: (batch size, units) (128, 1024)\n",
            "Attention weights shape: (batch_size, sequence_length, 1) (128, 22, 1)\n"
          ],
          "name": "stdout"
        }
      ]
    },
    {
      "cell_type": "code",
      "metadata": {
        "id": "ZiTT1RmZcbIq",
        "colab_type": "code",
        "colab": {}
      },
      "source": [
        "class Decoder(tf.keras.Model):\n",
        "  def __init__(self, vocab_size, embedding_dim, dec_units, batch_sz):\n",
        "    super(Decoder, self).__init__()\n",
        "    self.batch_sz = batch_sz\n",
        "    self.dec_units = dec_units\n",
        "    self.embedding = tf.keras.layers.Embedding(vocab_size, embedding_dim)\n",
        "    self.gru = tf.keras.layers.GRU(self.dec_units,\n",
        "                                   return_sequences=True,\n",
        "                                   return_state=True,\n",
        "                                   recurrent_initializer='glorot_uniform')\n",
        "    self.fc = tf.keras.layers.Dense(vocab_size)\n",
        "\n",
        "    # used for attention\n",
        "    self.attention = BahdanauAttention(self.dec_units)\n",
        "\n",
        "  def call(self, x, hidden, enc_output):\n",
        "    # enc_output shape == (batch_size, max_length, hidden_size)\n",
        "    context_vector, attention_weights = self.attention(hidden, enc_output)\n",
        "\n",
        "\n",
        "    # x shape after passing through embedding == (batch_size, 1, embedding_dim)\n",
        "    x = self.embedding(x)\n",
        "\n",
        "    # x shape after concatenation == (batch_size, 1, embedding_dim + hidden_size)\n",
        "    x = tf.concat([tf.expand_dims(context_vector, 1), x], axis=-1)\n",
        "\n",
        "    # passing the concatenated vector to the GRU\n",
        "    output, state = self.gru(x)\n",
        "\n",
        "    # output shape == (batch_size * 1, hidden_size)\n",
        "    output = tf.reshape(output, (-1, output.shape[2]))\n",
        "\n",
        "    # output shape == (batch_size, vocab)\n",
        "    x = self.fc(output)\n",
        "\n",
        "    return x, state, attention_weights"
      ],
      "execution_count": 0,
      "outputs": []
    },
    {
      "cell_type": "code",
      "metadata": {
        "id": "FMIkzCO-cfOc",
        "colab_type": "code",
        "outputId": "4798d86b-0472-4ae7-9131-a3f454faf4f4",
        "colab": {
          "base_uri": "https://localhost:8080/",
          "height": 34
        }
      },
      "source": [
        "decoder = Decoder(vocab_tar_size, embedding_dim, units, BATCH_SIZE)\n",
        "\n",
        "sample_decoder_output, _, _ = decoder(tf.random.uniform((128, 1)),\n",
        "                                      sample_hidden, sample_output)\n",
        "\n",
        "print ('Decoder output shape: (batch_size, vocab size) {}'.format(sample_decoder_output.shape))"
      ],
      "execution_count": 40,
      "outputs": [
        {
          "output_type": "stream",
          "text": [
            "Decoder output shape: (batch_size, vocab size) (128, 60)\n"
          ],
          "name": "stdout"
        }
      ]
    },
    {
      "cell_type": "markdown",
      "metadata": {
        "id": "Gnq0_NQ8e05l",
        "colab_type": "text"
      },
      "source": [
        "## Define the optimizer and the loss function"
      ]
    },
    {
      "cell_type": "code",
      "metadata": {
        "id": "cxWDV83gchIF",
        "colab_type": "code",
        "colab": {}
      },
      "source": [
        "optimizer = tf.keras.optimizers.Adam()\n",
        "loss_object = tf.keras.losses.SparseCategoricalCrossentropy(\n",
        "    from_logits=True, reduction='none')\n",
        "\n",
        "def loss_function(real, pred):\n",
        "  mask = tf.math.logical_not(tf.math.equal(real, 0))\n",
        "  loss_ = loss_object(real, pred)\n",
        "\n",
        "  mask = tf.cast(mask, dtype=loss_.dtype)\n",
        "  loss_ *= mask*1.5\n",
        "\n",
        "  return tf.reduce_mean(loss_)"
      ],
      "execution_count": 0,
      "outputs": []
    },
    {
      "cell_type": "markdown",
      "metadata": {
        "id": "L_pyqg29e4dF",
        "colab_type": "text"
      },
      "source": [
        "## Checkpoints (Object-based saving)"
      ]
    },
    {
      "cell_type": "code",
      "metadata": {
        "id": "a9JQ8JxbcnTO",
        "colab_type": "code",
        "colab": {}
      },
      "source": [
        "checkpoint_dir = './training_checkpoints'\n",
        "checkpoint_prefix = os.path.join(checkpoint_dir, \"ckpt\")\n",
        "checkpoint = tf.train.Checkpoint(optimizer=optimizer,\n",
        "                                 encoder=encoder,\n",
        "                                 decoder=decoder)"
      ],
      "execution_count": 0,
      "outputs": []
    },
    {
      "cell_type": "markdown",
      "metadata": {
        "id": "ifFt1CWDe96c",
        "colab_type": "text"
      },
      "source": [
        "## Training\n",
        "\n",
        "1. Pass the *input* through the *encoder* which return *encoder output* and the *encoder hidden state*.\n",
        "2. The encoder output, encoder hidden state and the decoder input (which is the *start token*) is passed to the decoder.\n",
        "3. The decoder returns the *predictions* and the *decoder hidden state*.\n",
        "4. The decoder hidden state is then passed back into the model and the predictions are used to calculate the loss.\n",
        "5. Use *teacher forcing* to decide the next input to the decoder.\n",
        "6. *Teacher forcing* is the technique where the *target word* is passed as the *next input* to the decoder.\n",
        "7. The final step is to calculate the gradients and apply it to the optimizer and backpropagate."
      ]
    },
    {
      "cell_type": "code",
      "metadata": {
        "id": "plAUycD1cpsF",
        "colab_type": "code",
        "colab": {}
      },
      "source": [
        "@tf.function\n",
        "def train_step(inp, targ, enc_hidden):\n",
        "  loss = 0\n",
        "\n",
        "  with tf.GradientTape() as tape:\n",
        "    enc_output, enc_hidden = encoder(inp, enc_hidden)\n",
        "\n",
        "    dec_hidden = enc_hidden\n",
        "\n",
        "    dec_input = tf.expand_dims([targ_lang.word2idx['0']] * BATCH_SIZE, 1)\n",
        "\n",
        "    # Teacher forcing - feeding the target as the next input\n",
        "    for t in range(1, targ.shape[1]):\n",
        "      # passing enc_output to the decoder\n",
        "      predictions, dec_hidden, _ = decoder(dec_input, dec_hidden, enc_output)\n",
        "\n",
        "      loss += loss_function(targ[:, t], predictions)\n",
        "\n",
        "      # using teacher forcing\n",
        "      dec_input = tf.expand_dims(targ[:, t], 1)\n",
        "\n",
        "  batch_loss = (loss / int(targ.shape[1]))\n",
        "\n",
        "  variables = encoder.trainable_variables + decoder.trainable_variables\n",
        "\n",
        "  gradients = tape.gradient(loss, variables)\n",
        "\n",
        "  optimizer.apply_gradients(zip(gradients, variables))\n",
        "\n",
        "  return batch_loss"
      ],
      "execution_count": 0,
      "outputs": []
    },
    {
      "cell_type": "code",
      "metadata": {
        "id": "fCTqNxSncsZr",
        "colab_type": "code",
        "outputId": "ce9317e8-da9a-4144-f523-f42eee5fa8b1",
        "colab": {
          "base_uri": "https://localhost:8080/",
          "height": 714
        }
      },
      "source": [
        "EPOCHS = 20\n",
        "\n",
        "for epoch in range(EPOCHS):\n",
        "  start = time.time()\n",
        "\n",
        "  enc_hidden = encoder.initialize_hidden_state()\n",
        "  total_loss = 0\n",
        "\n",
        "  for (batch, (inp, targ)) in enumerate(dataset.take(steps_per_epoch)):\n",
        "    batch_loss = train_step(inp, targ, enc_hidden)\n",
        "    total_loss += batch_loss\n",
        "\n",
        "    if batch % 100 == 0:\n",
        "        print('Epoch {} Batch {} Loss {:.4f}'.format(epoch + 1,\n",
        "                                                     batch,\n",
        "                                                     batch_loss.numpy()))\n",
        "  # saving (checkpoint) the model every 2 epochs\n",
        "  if (epoch + 1) % 2 == 0:\n",
        "    checkpoint.save(file_prefix = checkpoint_prefix)\n",
        "\n",
        "  print('Epoch {} Loss {:.4f}'.format(epoch + 1,\n",
        "                                      total_loss / steps_per_epoch))\n",
        "  print('Time taken for 1 epoch {} sec\\n'.format(time.time() - start))"
      ],
      "execution_count": 0,
      "outputs": [
        {
          "output_type": "stream",
          "text": [
            "Epoch 1 Batch 0 Loss 1.9161\n",
            "Epoch 1 Batch 100 Loss 1.3553\n",
            "Epoch 1 Loss 1.3663\n",
            "Time taken for 1 epoch 82.57677459716797 sec\n",
            "\n",
            "Epoch 2 Batch 0 Loss 1.0374\n",
            "Epoch 2 Batch 100 Loss 0.4675\n",
            "Epoch 2 Loss 0.6170\n",
            "Time taken for 1 epoch 56.282283782958984 sec\n",
            "\n",
            "Epoch 3 Batch 0 Loss 0.3814\n",
            "Epoch 3 Batch 100 Loss 0.2745\n",
            "Epoch 3 Loss 0.3060\n",
            "Time taken for 1 epoch 55.651458501815796 sec\n",
            "\n",
            "Epoch 4 Batch 0 Loss 0.2368\n",
            "Epoch 4 Batch 100 Loss 0.2437\n",
            "Epoch 4 Loss 0.2332\n",
            "Time taken for 1 epoch 55.665244340896606 sec\n",
            "\n",
            "Epoch 5 Batch 0 Loss 0.2277\n",
            "Epoch 5 Batch 100 Loss 0.1963\n",
            "Epoch 5 Loss 0.1923\n",
            "Time taken for 1 epoch 55.412527322769165 sec\n",
            "\n",
            "Epoch 6 Batch 0 Loss 0.1749\n",
            "Epoch 6 Batch 100 Loss 0.1517\n",
            "Epoch 6 Loss 0.1665\n",
            "Time taken for 1 epoch 55.85036039352417 sec\n",
            "\n",
            "Epoch 7 Batch 0 Loss 0.1481\n",
            "Epoch 7 Batch 100 Loss 0.1352\n",
            "Epoch 7 Loss 0.1499\n",
            "Time taken for 1 epoch 55.6094536781311 sec\n",
            "\n",
            "Epoch 8 Batch 0 Loss 0.1255\n",
            "Epoch 8 Batch 100 Loss 0.1078\n",
            "Epoch 8 Loss 0.1263\n",
            "Time taken for 1 epoch 56.173123836517334 sec\n",
            "\n",
            "Epoch 9 Batch 0 Loss 0.1001\n"
          ],
          "name": "stdout"
        }
      ]
    },
    {
      "cell_type": "markdown",
      "metadata": {
        "id": "1ODBdBsSfCT9",
        "colab_type": "text"
      },
      "source": [
        "## Translate\n",
        "\n",
        "* The evaluate function is similar to the training loop, except we don't use *teacher forcing* here. The input to the decoder at each time step is its previous predictions along with the hidden state and the encoder output.\n",
        "* Stop predicting when the model predicts the *end token*.\n",
        "* And store the *attention weights for every time step*.\n",
        "\n",
        "Note: The encoder output is calculated only once for one input."
      ]
    },
    {
      "cell_type": "code",
      "metadata": {
        "id": "qKUYLgIScvFv",
        "colab_type": "code",
        "colab": {}
      },
      "source": [
        "def evaluate(sentence):\n",
        "    attention_plot = np.zeros((max_length_targ, max_length_inp))\n",
        "\n",
        "    sentence = preprocess_sentence(sentence)[0]\n",
        "\n",
        "    inputs = [inp_lang.word2idx[i] for i in sentence]\n",
        "\n",
        "    inputs = tf.keras.preprocessing.sequence.pad_sequences([inputs],\n",
        "                                                           maxlen=max_length_inp,\n",
        "                                                           padding='post')\n",
        "    inputs = tf.convert_to_tensor(inputs)\n",
        "\n",
        "    result = ''\n",
        "\n",
        "    hidden = [tf.zeros((1, units))]\n",
        "    enc_out, enc_hidden = encoder(inputs, hidden)\n",
        "\n",
        "    dec_hidden = enc_hidden\n",
        "    dec_input = tf.expand_dims([targ_lang.word2idx['0']], 0)\n",
        "\n",
        "    for t in range(max_length_targ):\n",
        "        predictions, dec_hidden, attention_weights = decoder(dec_input,\n",
        "                                                             dec_hidden,\n",
        "                                                             enc_out)\n",
        "\n",
        "        # storing the attention weights to plot later on\n",
        "        attention_weights = tf.reshape(attention_weights, (-1, ))\n",
        "        attention_plot[t] = attention_weights.numpy()\n",
        "\n",
        "        predicted_id = tf.argmax(predictions[0]).numpy()\n",
        "\n",
        "        result += targ_lang.idx2word[predicted_id] + ' '\n",
        "\n",
        "        if targ_lang.idx2word[predicted_id] == '1':\n",
        "            return result, sentence, attention_plot\n",
        "\n",
        "        # the predicted ID is fed back into the model\n",
        "        dec_input = tf.expand_dims([predicted_id], 0)\n",
        "\n",
        "    return result, sentence, attention_plot"
      ],
      "execution_count": 0,
      "outputs": []
    },
    {
      "cell_type": "code",
      "metadata": {
        "id": "OzcikUbPdPtw",
        "colab_type": "code",
        "colab": {}
      },
      "source": [
        "\n",
        "# function for plotting the attention weights\n",
        "def plot_attention(attention, sentence, predicted_sentence):\n",
        "\n",
        "    fig = plt.figure(figsize=(10,10))\n",
        "    ax = fig.add_subplot(1, 1, 1)\n",
        "    ax.matshow(attention, cmap='viridis')\n",
        "\n",
        "    fontdict = {'fontsize': 14}\n",
        "\n",
        "    ax.set_xticklabels([''] + sentence, fontdict=fontdict, rotation=90)\n",
        "    ax.set_yticklabels([''] + predicted_sentence, fontdict=fontdict)\n",
        "\n",
        "    ax.xaxis.set_major_locator(ticker.MultipleLocator(1))\n",
        "    ax.yaxis.set_major_locator(ticker.MultipleLocator(1))\n",
        "\n",
        "    plt.show()"
      ],
      "execution_count": 0,
      "outputs": []
    },
    {
      "cell_type": "code",
      "metadata": {
        "id": "eRQjdnNLdQEE",
        "colab_type": "code",
        "colab": {}
      },
      "source": [
        "def translate(sentence):\n",
        "    result, sentence, attention_plot = evaluate(sentence)\n",
        "\n",
        "    print('Input: %s' % (sentence[1:-1]))\n",
        "    print('Predicted translation: {}'.format(''.join(result.split(' '))[:-1]))\n",
        "\n",
        "    attention_plot = attention_plot[:len(result.split(' ')), :len(list(sentence))]\n",
        "    plot_attention(attention_plot, list(sentence), result.split(' '))\n",
        "    "
      ],
      "execution_count": 0,
      "outputs": []
    },
    {
      "cell_type": "markdown",
      "metadata": {
        "id": "jHih3a6zfI_0",
        "colab_type": "text"
      },
      "source": [
        "## Restore the latest checkpoint and test"
      ]
    },
    {
      "cell_type": "code",
      "metadata": {
        "id": "Xw_Z8vMdfMiO",
        "colab_type": "code",
        "colab": {}
      },
      "source": [
        "# restoring the latest checkpoint in checkpoint_dir\n",
        "checkpoint.restore(tf.train.latest_checkpoint(checkpoint_dir))"
      ],
      "execution_count": 0,
      "outputs": []
    },
    {
      "cell_type": "code",
      "metadata": {
        "id": "DctOjGdDfNzZ",
        "colab_type": "code",
        "colab": {}
      },
      "source": [
        "translate('shivam')"
      ],
      "execution_count": 0,
      "outputs": []
    },
    {
      "cell_type": "code",
      "metadata": {
        "id": "L3vsCG9Cg8mu",
        "colab_type": "code",
        "colab": {}
      },
      "source": [
        "translate('jaiswal')"
      ],
      "execution_count": 0,
      "outputs": []
    },
    {
      "cell_type": "markdown",
      "metadata": {
        "id": "KxfN4lGnfk1d",
        "colab_type": "text"
      },
      "source": [
        "## Next steps\n",
        "\n",
        "* [Download a different dataset](http://www.manythings.org/anki/) to experiment with translations, for example, English to German, or English to French.\n",
        "* Experiment with training on a larger dataset, or using more epochs\n"
      ]
    }
  ]
}